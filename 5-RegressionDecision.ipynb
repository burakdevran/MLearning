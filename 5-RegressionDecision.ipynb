{
 "cells": [
  {
   "cell_type": "code",
   "execution_count": 1,
   "id": "7f357570-f88e-4443-98af-cbcce3c733ed",
   "metadata": {},
   "outputs": [],
   "source": [
    "#https://github.com/shankarpandala/lazypredict"
   ]
  },
  {
   "cell_type": "code",
   "execution_count": 2,
   "id": "99da3db7-cc12-4000-9856-133b299687db",
   "metadata": {},
   "outputs": [
    {
     "name": "stdout",
     "output_type": "stream",
     "text": [
      "Requirement already satisfied: lazypredict in /opt/anaconda3/lib/python3.12/site-packages (0.2.16)\n",
      "Requirement already satisfied: click in /opt/anaconda3/lib/python3.12/site-packages (from lazypredict) (8.1.7)\n",
      "Requirement already satisfied: scikit-learn in /opt/anaconda3/lib/python3.12/site-packages (from lazypredict) (1.5.1)\n",
      "Requirement already satisfied: pandas in /opt/anaconda3/lib/python3.12/site-packages (from lazypredict) (2.2.2)\n",
      "Requirement already satisfied: tqdm in /opt/anaconda3/lib/python3.12/site-packages (from lazypredict) (4.66.5)\n",
      "Requirement already satisfied: joblib in /opt/anaconda3/lib/python3.12/site-packages (from lazypredict) (1.4.2)\n",
      "Requirement already satisfied: lightgbm in /opt/anaconda3/lib/python3.12/site-packages (from lazypredict) (4.6.0)\n",
      "Requirement already satisfied: xgboost in /opt/anaconda3/lib/python3.12/site-packages (from lazypredict) (3.0.0)\n",
      "Requirement already satisfied: pytest-runner in /opt/anaconda3/lib/python3.12/site-packages (from lazypredict) (6.0.1)\n",
      "Requirement already satisfied: mlflow>=2.0.0 in /opt/anaconda3/lib/python3.12/site-packages (from lazypredict) (2.21.3)\n",
      "Requirement already satisfied: mlflow-skinny==2.21.3 in /opt/anaconda3/lib/python3.12/site-packages (from mlflow>=2.0.0->lazypredict) (2.21.3)\n",
      "Requirement already satisfied: Flask<4 in /opt/anaconda3/lib/python3.12/site-packages (from mlflow>=2.0.0->lazypredict) (3.0.3)\n",
      "Requirement already satisfied: Jinja2<4,>=2.11 in /opt/anaconda3/lib/python3.12/site-packages (from mlflow>=2.0.0->lazypredict) (3.1.4)\n",
      "Requirement already satisfied: alembic!=1.10.0,<2 in /opt/anaconda3/lib/python3.12/site-packages (from mlflow>=2.0.0->lazypredict) (1.15.2)\n",
      "Requirement already satisfied: docker<8,>=4.0.0 in /opt/anaconda3/lib/python3.12/site-packages (from mlflow>=2.0.0->lazypredict) (7.1.0)\n",
      "Requirement already satisfied: graphene<4 in /opt/anaconda3/lib/python3.12/site-packages (from mlflow>=2.0.0->lazypredict) (3.4.3)\n",
      "Requirement already satisfied: gunicorn<24 in /opt/anaconda3/lib/python3.12/site-packages (from mlflow>=2.0.0->lazypredict) (23.0.0)\n",
      "Requirement already satisfied: markdown<4,>=3.3 in /opt/anaconda3/lib/python3.12/site-packages (from mlflow>=2.0.0->lazypredict) (3.4.1)\n",
      "Requirement already satisfied: matplotlib<4 in /opt/anaconda3/lib/python3.12/site-packages (from mlflow>=2.0.0->lazypredict) (3.9.2)\n",
      "Requirement already satisfied: numpy<3 in /opt/anaconda3/lib/python3.12/site-packages (from mlflow>=2.0.0->lazypredict) (1.26.4)\n",
      "Requirement already satisfied: pyarrow<20,>=4.0.0 in /opt/anaconda3/lib/python3.12/site-packages (from mlflow>=2.0.0->lazypredict) (16.1.0)\n",
      "Requirement already satisfied: scipy<2 in /opt/anaconda3/lib/python3.12/site-packages (from mlflow>=2.0.0->lazypredict) (1.13.1)\n",
      "Requirement already satisfied: sqlalchemy<3,>=1.4.0 in /opt/anaconda3/lib/python3.12/site-packages (from mlflow>=2.0.0->lazypredict) (2.0.34)\n",
      "Requirement already satisfied: cachetools<6,>=5.0.0 in /opt/anaconda3/lib/python3.12/site-packages (from mlflow-skinny==2.21.3->mlflow>=2.0.0->lazypredict) (5.3.3)\n",
      "Requirement already satisfied: cloudpickle<4 in /opt/anaconda3/lib/python3.12/site-packages (from mlflow-skinny==2.21.3->mlflow>=2.0.0->lazypredict) (3.0.0)\n",
      "Requirement already satisfied: databricks-sdk<1,>=0.20.0 in /opt/anaconda3/lib/python3.12/site-packages (from mlflow-skinny==2.21.3->mlflow>=2.0.0->lazypredict) (0.49.0)\n",
      "Requirement already satisfied: fastapi<1 in /opt/anaconda3/lib/python3.12/site-packages (from mlflow-skinny==2.21.3->mlflow>=2.0.0->lazypredict) (0.115.12)\n",
      "Requirement already satisfied: gitpython<4,>=3.1.9 in /opt/anaconda3/lib/python3.12/site-packages (from mlflow-skinny==2.21.3->mlflow>=2.0.0->lazypredict) (3.1.43)\n",
      "Requirement already satisfied: importlib_metadata!=4.7.0,<9,>=3.7.0 in /opt/anaconda3/lib/python3.12/site-packages (from mlflow-skinny==2.21.3->mlflow>=2.0.0->lazypredict) (7.0.1)\n",
      "Requirement already satisfied: opentelemetry-api<3,>=1.9.0 in /opt/anaconda3/lib/python3.12/site-packages (from mlflow-skinny==2.21.3->mlflow>=2.0.0->lazypredict) (1.32.0)\n",
      "Requirement already satisfied: opentelemetry-sdk<3,>=1.9.0 in /opt/anaconda3/lib/python3.12/site-packages (from mlflow-skinny==2.21.3->mlflow>=2.0.0->lazypredict) (1.32.0)\n",
      "Requirement already satisfied: packaging<25 in /opt/anaconda3/lib/python3.12/site-packages (from mlflow-skinny==2.21.3->mlflow>=2.0.0->lazypredict) (24.1)\n",
      "Requirement already satisfied: protobuf<6,>=3.12.0 in /opt/anaconda3/lib/python3.12/site-packages (from mlflow-skinny==2.21.3->mlflow>=2.0.0->lazypredict) (4.25.3)\n",
      "Requirement already satisfied: pydantic<3,>=1.10.8 in /opt/anaconda3/lib/python3.12/site-packages (from mlflow-skinny==2.21.3->mlflow>=2.0.0->lazypredict) (2.8.2)\n",
      "Requirement already satisfied: pyyaml<7,>=5.1 in /opt/anaconda3/lib/python3.12/site-packages (from mlflow-skinny==2.21.3->mlflow>=2.0.0->lazypredict) (6.0.1)\n",
      "Requirement already satisfied: requests<3,>=2.17.3 in /opt/anaconda3/lib/python3.12/site-packages (from mlflow-skinny==2.21.3->mlflow>=2.0.0->lazypredict) (2.32.3)\n",
      "Requirement already satisfied: sqlparse<1,>=0.4.0 in /opt/anaconda3/lib/python3.12/site-packages (from mlflow-skinny==2.21.3->mlflow>=2.0.0->lazypredict) (0.5.3)\n",
      "Requirement already satisfied: typing-extensions<5,>=4.0.0 in /opt/anaconda3/lib/python3.12/site-packages (from mlflow-skinny==2.21.3->mlflow>=2.0.0->lazypredict) (4.13.2)\n",
      "Requirement already satisfied: uvicorn<1 in /opt/anaconda3/lib/python3.12/site-packages (from mlflow-skinny==2.21.3->mlflow>=2.0.0->lazypredict) (0.34.1)\n",
      "Requirement already satisfied: python-dateutil>=2.8.2 in /opt/anaconda3/lib/python3.12/site-packages (from pandas->lazypredict) (2.9.0.post0)\n",
      "Requirement already satisfied: pytz>=2020.1 in /opt/anaconda3/lib/python3.12/site-packages (from pandas->lazypredict) (2024.1)\n",
      "Requirement already satisfied: tzdata>=2022.7 in /opt/anaconda3/lib/python3.12/site-packages (from pandas->lazypredict) (2023.3)\n",
      "Requirement already satisfied: threadpoolctl>=3.1.0 in /opt/anaconda3/lib/python3.12/site-packages (from scikit-learn->lazypredict) (3.5.0)\n",
      "Requirement already satisfied: Mako in /opt/anaconda3/lib/python3.12/site-packages (from alembic!=1.10.0,<2->mlflow>=2.0.0->lazypredict) (1.3.10)\n",
      "Requirement already satisfied: urllib3>=1.26.0 in /opt/anaconda3/lib/python3.12/site-packages (from docker<8,>=4.0.0->mlflow>=2.0.0->lazypredict) (2.2.3)\n",
      "Requirement already satisfied: Werkzeug>=3.0.0 in /opt/anaconda3/lib/python3.12/site-packages (from Flask<4->mlflow>=2.0.0->lazypredict) (3.0.3)\n",
      "Requirement already satisfied: itsdangerous>=2.1.2 in /opt/anaconda3/lib/python3.12/site-packages (from Flask<4->mlflow>=2.0.0->lazypredict) (2.2.0)\n",
      "Requirement already satisfied: blinker>=1.6.2 in /opt/anaconda3/lib/python3.12/site-packages (from Flask<4->mlflow>=2.0.0->lazypredict) (1.6.2)\n",
      "Requirement already satisfied: graphql-core<3.3,>=3.1 in /opt/anaconda3/lib/python3.12/site-packages (from graphene<4->mlflow>=2.0.0->lazypredict) (3.2.6)\n",
      "Requirement already satisfied: graphql-relay<3.3,>=3.1 in /opt/anaconda3/lib/python3.12/site-packages (from graphene<4->mlflow>=2.0.0->lazypredict) (3.2.0)\n",
      "Requirement already satisfied: MarkupSafe>=2.0 in /opt/anaconda3/lib/python3.12/site-packages (from Jinja2<4,>=2.11->mlflow>=2.0.0->lazypredict) (2.1.3)\n",
      "Requirement already satisfied: contourpy>=1.0.1 in /opt/anaconda3/lib/python3.12/site-packages (from matplotlib<4->mlflow>=2.0.0->lazypredict) (1.2.0)\n",
      "Requirement already satisfied: cycler>=0.10 in /opt/anaconda3/lib/python3.12/site-packages (from matplotlib<4->mlflow>=2.0.0->lazypredict) (0.11.0)\n",
      "Requirement already satisfied: fonttools>=4.22.0 in /opt/anaconda3/lib/python3.12/site-packages (from matplotlib<4->mlflow>=2.0.0->lazypredict) (4.51.0)\n",
      "Requirement already satisfied: kiwisolver>=1.3.1 in /opt/anaconda3/lib/python3.12/site-packages (from matplotlib<4->mlflow>=2.0.0->lazypredict) (1.4.4)\n",
      "Requirement already satisfied: pillow>=8 in /opt/anaconda3/lib/python3.12/site-packages (from matplotlib<4->mlflow>=2.0.0->lazypredict) (10.4.0)\n",
      "Requirement already satisfied: pyparsing>=2.3.1 in /opt/anaconda3/lib/python3.12/site-packages (from matplotlib<4->mlflow>=2.0.0->lazypredict) (3.1.2)\n",
      "Requirement already satisfied: six>=1.5 in /opt/anaconda3/lib/python3.12/site-packages (from python-dateutil>=2.8.2->pandas->lazypredict) (1.16.0)\n",
      "Requirement already satisfied: google-auth~=2.0 in /opt/anaconda3/lib/python3.12/site-packages (from databricks-sdk<1,>=0.20.0->mlflow-skinny==2.21.3->mlflow>=2.0.0->lazypredict) (2.38.0)\n",
      "Requirement already satisfied: starlette<0.47.0,>=0.40.0 in /opt/anaconda3/lib/python3.12/site-packages (from fastapi<1->mlflow-skinny==2.21.3->mlflow>=2.0.0->lazypredict) (0.46.2)\n",
      "Requirement already satisfied: gitdb<5,>=4.0.1 in /opt/anaconda3/lib/python3.12/site-packages (from gitpython<4,>=3.1.9->mlflow-skinny==2.21.3->mlflow>=2.0.0->lazypredict) (4.0.7)\n",
      "Requirement already satisfied: zipp>=0.5 in /opt/anaconda3/lib/python3.12/site-packages (from importlib_metadata!=4.7.0,<9,>=3.7.0->mlflow-skinny==2.21.3->mlflow>=2.0.0->lazypredict) (3.17.0)\n",
      "Requirement already satisfied: deprecated>=1.2.6 in /opt/anaconda3/lib/python3.12/site-packages (from opentelemetry-api<3,>=1.9.0->mlflow-skinny==2.21.3->mlflow>=2.0.0->lazypredict) (1.2.18)\n",
      "Requirement already satisfied: opentelemetry-semantic-conventions==0.53b0 in /opt/anaconda3/lib/python3.12/site-packages (from opentelemetry-sdk<3,>=1.9.0->mlflow-skinny==2.21.3->mlflow>=2.0.0->lazypredict) (0.53b0)\n",
      "Requirement already satisfied: annotated-types>=0.4.0 in /opt/anaconda3/lib/python3.12/site-packages (from pydantic<3,>=1.10.8->mlflow-skinny==2.21.3->mlflow>=2.0.0->lazypredict) (0.6.0)\n",
      "Requirement already satisfied: pydantic-core==2.20.1 in /opt/anaconda3/lib/python3.12/site-packages (from pydantic<3,>=1.10.8->mlflow-skinny==2.21.3->mlflow>=2.0.0->lazypredict) (2.20.1)\n",
      "Requirement already satisfied: charset-normalizer<4,>=2 in /opt/anaconda3/lib/python3.12/site-packages (from requests<3,>=2.17.3->mlflow-skinny==2.21.3->mlflow>=2.0.0->lazypredict) (3.3.2)\n",
      "Requirement already satisfied: idna<4,>=2.5 in /opt/anaconda3/lib/python3.12/site-packages (from requests<3,>=2.17.3->mlflow-skinny==2.21.3->mlflow>=2.0.0->lazypredict) (3.7)\n",
      "Requirement already satisfied: certifi>=2017.4.17 in /opt/anaconda3/lib/python3.12/site-packages (from requests<3,>=2.17.3->mlflow-skinny==2.21.3->mlflow>=2.0.0->lazypredict) (2025.1.31)\n",
      "Requirement already satisfied: h11>=0.8 in /opt/anaconda3/lib/python3.12/site-packages (from uvicorn<1->mlflow-skinny==2.21.3->mlflow>=2.0.0->lazypredict) (0.14.0)\n",
      "Requirement already satisfied: wrapt<2,>=1.10 in /opt/anaconda3/lib/python3.12/site-packages (from deprecated>=1.2.6->opentelemetry-api<3,>=1.9.0->mlflow-skinny==2.21.3->mlflow>=2.0.0->lazypredict) (1.14.1)\n",
      "Requirement already satisfied: smmap<5,>=3.0.1 in /opt/anaconda3/lib/python3.12/site-packages (from gitdb<5,>=4.0.1->gitpython<4,>=3.1.9->mlflow-skinny==2.21.3->mlflow>=2.0.0->lazypredict) (4.0.0)\n",
      "Requirement already satisfied: pyasn1-modules>=0.2.1 in /opt/anaconda3/lib/python3.12/site-packages (from google-auth~=2.0->databricks-sdk<1,>=0.20.0->mlflow-skinny==2.21.3->mlflow>=2.0.0->lazypredict) (0.2.8)\n",
      "Requirement already satisfied: rsa<5,>=3.1.4 in /opt/anaconda3/lib/python3.12/site-packages (from google-auth~=2.0->databricks-sdk<1,>=0.20.0->mlflow-skinny==2.21.3->mlflow>=2.0.0->lazypredict) (4.9)\n",
      "Requirement already satisfied: anyio<5,>=3.6.2 in /opt/anaconda3/lib/python3.12/site-packages (from starlette<0.47.0,>=0.40.0->fastapi<1->mlflow-skinny==2.21.3->mlflow>=2.0.0->lazypredict) (4.2.0)\n",
      "Requirement already satisfied: sniffio>=1.1 in /opt/anaconda3/lib/python3.12/site-packages (from anyio<5,>=3.6.2->starlette<0.47.0,>=0.40.0->fastapi<1->mlflow-skinny==2.21.3->mlflow>=2.0.0->lazypredict) (1.3.0)\n",
      "Requirement already satisfied: pyasn1<0.5.0,>=0.4.6 in /opt/anaconda3/lib/python3.12/site-packages (from pyasn1-modules>=0.2.1->google-auth~=2.0->databricks-sdk<1,>=0.20.0->mlflow-skinny==2.21.3->mlflow>=2.0.0->lazypredict) (0.4.8)\n"
     ]
    }
   ],
   "source": [
    "!pip install lazypredict"
   ]
  },
  {
   "cell_type": "code",
   "execution_count": 3,
   "id": "e80637f7-1083-4fc0-af85-5db5a060f249",
   "metadata": {},
   "outputs": [],
   "source": [
    "from lazypredict.Supervised import LazyRegressor\n",
    "from sklearn import datasets\n",
    "from sklearn.utils import shuffle\n",
    "import numpy as np"
   ]
  },
  {
   "cell_type": "code",
   "execution_count": 4,
   "id": "abffbf26-f567-4804-89a8-5b623a1dc1f7",
   "metadata": {},
   "outputs": [],
   "source": [
    "diabetes  = datasets.load_diabetes()"
   ]
  },
  {
   "cell_type": "code",
   "execution_count": 5,
   "id": "e27bd17f-d012-4a08-9886-092590461ef8",
   "metadata": {},
   "outputs": [
    {
     "data": {
      "text/plain": [
       "sklearn.utils._bunch.Bunch"
      ]
     },
     "execution_count": 5,
     "metadata": {},
     "output_type": "execute_result"
    }
   ],
   "source": [
    "type(diabetes)"
   ]
  },
  {
   "cell_type": "code",
   "execution_count": 6,
   "id": "aa75c211-afd7-44e1-9876-3a8db5ad4ce5",
   "metadata": {},
   "outputs": [
    {
     "data": {
      "text/plain": [
       "'.. _diabetes_dataset:\\n\\nDiabetes dataset\\n----------------\\n\\nTen baseline variables, age, sex, body mass index, average blood\\npressure, and six blood serum measurements were obtained for each of n =\\n442 diabetes patients, as well as the response of interest, a\\nquantitative measure of disease progression one year after baseline.\\n\\n**Data Set Characteristics:**\\n\\n:Number of Instances: 442\\n\\n:Number of Attributes: First 10 columns are numeric predictive values\\n\\n:Target: Column 11 is a quantitative measure of disease progression one year after baseline\\n\\n:Attribute Information:\\n    - age     age in years\\n    - sex\\n    - bmi     body mass index\\n    - bp      average blood pressure\\n    - s1      tc, total serum cholesterol\\n    - s2      ldl, low-density lipoproteins\\n    - s3      hdl, high-density lipoproteins\\n    - s4      tch, total cholesterol / HDL\\n    - s5      ltg, possibly log of serum triglycerides level\\n    - s6      glu, blood sugar level\\n\\nNote: Each of these 10 feature variables have been mean centered and scaled by the standard deviation times the square root of `n_samples` (i.e. the sum of squares of each column totals 1).\\n\\nSource URL:\\nhttps://www4.stat.ncsu.edu/~boos/var.select/diabetes.html\\n\\nFor more information see:\\nBradley Efron, Trevor Hastie, Iain Johnstone and Robert Tibshirani (2004) \"Least Angle Regression,\" Annals of Statistics (with discussion), 407-499.\\n(https://web.stanford.edu/~hastie/Papers/LARS/LeastAngle_2002.pdf)\\n'"
      ]
     },
     "execution_count": 6,
     "metadata": {},
     "output_type": "execute_result"
    }
   ],
   "source": [
    "diabetes.DESCR"
   ]
  },
  {
   "cell_type": "code",
   "execution_count": 7,
   "id": "cc004000-0c3f-450f-9d1c-072896f4a4de",
   "metadata": {},
   "outputs": [
    {
     "data": {
      "text/plain": [
       "'.. _diabetes_dataset:\\n\\nDiabetes dataset\\n----------------\\n\\nTen baseline variables, age, sex, body mass index, average blood\\npressure, and six blood serum measurements were obtained for each of n =\\n442 diabetes patients, as well as the response of interest, a\\nquantitative measure of disease progression one year after baseline.\\n\\n**Data Set Characteristics:**\\n\\n:Number of Instances: 442\\n\\n:Number of Attributes: First 10 columns are numeric predictive values\\n\\n:Target: Column 11 is a quantitative measure of disease progression one year after baseline\\n\\n:Attribute Information:\\n    - age     age in years\\n    - sex\\n    - bmi     body mass index\\n    - bp      average blood pressure\\n    - s1      tc, total serum cholesterol\\n    - s2      ldl, low-density lipoproteins\\n    - s3      hdl, high-density lipoproteins\\n    - s4      tch, total cholesterol / HDL\\n    - s5      ltg, possibly log of serum triglycerides level\\n    - s6      glu, blood sugar level\\n\\nNote: Each of these 10 feature variables have been mean centered and scaled by the standard deviation times the square root of `n_samples` (i.e. the sum of squares of each column totals 1).\\n\\nSource URL:\\nhttps://www4.stat.ncsu.edu/~boos/var.select/diabetes.html\\n\\nFor more information see:\\nBradley Efron, Trevor Hastie, Iain Johnstone and Robert Tibshirani (2004) \"Least Angle Regression,\" Annals of Statistics (with discussion), 407-499.\\n(https://web.stanford.edu/~hastie/Papers/LARS/LeastAngle_2002.pdf)\\n'"
      ]
     },
     "execution_count": 7,
     "metadata": {},
     "output_type": "execute_result"
    }
   ],
   "source": [
    "diabetes['DESCR']"
   ]
  },
  {
   "cell_type": "code",
   "execution_count": 8,
   "id": "081ca1dd-e062-4f64-bbc9-005f2c17504a",
   "metadata": {},
   "outputs": [
    {
     "data": {
      "text/plain": [
       "array([[ 0.03807591,  0.05068012,  0.06169621, ..., -0.00259226,\n",
       "         0.01990749, -0.01764613],\n",
       "       [-0.00188202, -0.04464164, -0.05147406, ..., -0.03949338,\n",
       "        -0.06833155, -0.09220405],\n",
       "       [ 0.08529891,  0.05068012,  0.04445121, ..., -0.00259226,\n",
       "         0.00286131, -0.02593034],\n",
       "       ...,\n",
       "       [ 0.04170844,  0.05068012, -0.01590626, ..., -0.01107952,\n",
       "        -0.04688253,  0.01549073],\n",
       "       [-0.04547248, -0.04464164,  0.03906215, ...,  0.02655962,\n",
       "         0.04452873, -0.02593034],\n",
       "       [-0.04547248, -0.04464164, -0.0730303 , ..., -0.03949338,\n",
       "        -0.00422151,  0.00306441]])"
      ]
     },
     "execution_count": 8,
     "metadata": {},
     "output_type": "execute_result"
    }
   ],
   "source": [
    "diabetes.data"
   ]
  },
  {
   "cell_type": "code",
   "execution_count": 9,
   "id": "9078384c-59d0-4707-b355-5d020a7100f7",
   "metadata": {},
   "outputs": [
    {
     "data": {
      "text/plain": [
       "array([151.,  75., 141., 206., 135.,  97., 138.,  63., 110., 310., 101.,\n",
       "        69., 179., 185., 118., 171., 166., 144.,  97., 168.,  68.,  49.,\n",
       "        68., 245., 184., 202., 137.,  85., 131., 283., 129.,  59., 341.,\n",
       "        87.,  65., 102., 265., 276., 252.,  90., 100.,  55.,  61.,  92.,\n",
       "       259.,  53., 190., 142.,  75., 142., 155., 225.,  59., 104., 182.,\n",
       "       128.,  52.,  37., 170., 170.,  61., 144.,  52., 128.,  71., 163.,\n",
       "       150.,  97., 160., 178.,  48., 270., 202., 111.,  85.,  42., 170.,\n",
       "       200., 252., 113., 143.,  51.,  52., 210.,  65., 141.,  55., 134.,\n",
       "        42., 111.,  98., 164.,  48.,  96.,  90., 162., 150., 279.,  92.,\n",
       "        83., 128., 102., 302., 198.,  95.,  53., 134., 144., 232.,  81.,\n",
       "       104.,  59., 246., 297., 258., 229., 275., 281., 179., 200., 200.,\n",
       "       173., 180.,  84., 121., 161.,  99., 109., 115., 268., 274., 158.,\n",
       "       107.,  83., 103., 272.,  85., 280., 336., 281., 118., 317., 235.,\n",
       "        60., 174., 259., 178., 128.,  96., 126., 288.,  88., 292.,  71.,\n",
       "       197., 186.,  25.,  84.,  96., 195.,  53., 217., 172., 131., 214.,\n",
       "        59.,  70., 220., 268., 152.,  47.,  74., 295., 101., 151., 127.,\n",
       "       237., 225.,  81., 151., 107.,  64., 138., 185., 265., 101., 137.,\n",
       "       143., 141.,  79., 292., 178.,  91., 116.,  86., 122.,  72., 129.,\n",
       "       142.,  90., 158.,  39., 196., 222., 277.,  99., 196., 202., 155.,\n",
       "        77., 191.,  70.,  73.,  49.,  65., 263., 248., 296., 214., 185.,\n",
       "        78.,  93., 252., 150.,  77., 208.,  77., 108., 160.,  53., 220.,\n",
       "       154., 259.,  90., 246., 124.,  67.,  72., 257., 262., 275., 177.,\n",
       "        71.,  47., 187., 125.,  78.,  51., 258., 215., 303., 243.,  91.,\n",
       "       150., 310., 153., 346.,  63.,  89.,  50.,  39., 103., 308., 116.,\n",
       "       145.,  74.,  45., 115., 264.,  87., 202., 127., 182., 241.,  66.,\n",
       "        94., 283.,  64., 102., 200., 265.,  94., 230., 181., 156., 233.,\n",
       "        60., 219.,  80.,  68., 332., 248.,  84., 200.,  55.,  85.,  89.,\n",
       "        31., 129.,  83., 275.,  65., 198., 236., 253., 124.,  44., 172.,\n",
       "       114., 142., 109., 180., 144., 163., 147.,  97., 220., 190., 109.,\n",
       "       191., 122., 230., 242., 248., 249., 192., 131., 237.,  78., 135.,\n",
       "       244., 199., 270., 164.,  72.,  96., 306.,  91., 214.,  95., 216.,\n",
       "       263., 178., 113., 200., 139., 139.,  88., 148.,  88., 243.,  71.,\n",
       "        77., 109., 272.,  60.,  54., 221.,  90., 311., 281., 182., 321.,\n",
       "        58., 262., 206., 233., 242., 123., 167.,  63., 197.,  71., 168.,\n",
       "       140., 217., 121., 235., 245.,  40.,  52., 104., 132.,  88.,  69.,\n",
       "       219.,  72., 201., 110.,  51., 277.,  63., 118.,  69., 273., 258.,\n",
       "        43., 198., 242., 232., 175.,  93., 168., 275., 293., 281.,  72.,\n",
       "       140., 189., 181., 209., 136., 261., 113., 131., 174., 257.,  55.,\n",
       "        84.,  42., 146., 212., 233.,  91., 111., 152., 120.,  67., 310.,\n",
       "        94., 183.,  66., 173.,  72.,  49.,  64.,  48., 178., 104., 132.,\n",
       "       220.,  57.])"
      ]
     },
     "execution_count": 9,
     "metadata": {},
     "output_type": "execute_result"
    }
   ],
   "source": [
    "diabetes.target"
   ]
  },
  {
   "cell_type": "code",
   "execution_count": 10,
   "id": "6e31ca05-553c-41b8-8f6e-68aa241364da",
   "metadata": {},
   "outputs": [],
   "source": [
    "X, y = shuffle(diabetes.data, diabetes.target, random_state=13)"
   ]
  },
  {
   "cell_type": "code",
   "execution_count": 11,
   "id": "8c0ca610-da63-4c1b-a383-93b6d647f4ee",
   "metadata": {},
   "outputs": [],
   "source": [
    "X = X.astype(np.float32)"
   ]
  },
  {
   "cell_type": "code",
   "execution_count": 12,
   "id": "bfcbb335-5ec3-4a1a-80de-5986fb39ed29",
   "metadata": {},
   "outputs": [],
   "source": [
    "offset = int(X.shape[0] * 0.9)\n",
    "\n",
    "X_train, y_train = X[:offset], y[:offset]\n",
    "X_test, y_test = X[offset:], y[offset:]"
   ]
  },
  {
   "cell_type": "code",
   "execution_count": 14,
   "id": "c4696741-592c-49fb-b97d-c9976d2666d4",
   "metadata": {},
   "outputs": [
    {
     "data": {
      "text/plain": [
       "array([272.,  90.,  86., 232., 281.,  88., 235., 151., 152.,  98.,  85.,\n",
       "       270., 113., 263., 225., 178., 152., 275., 125., 167., 102.,  63.,\n",
       "        72.,  72., 150., 283.,  87., 200., 179.,  47., 259., 253., 129.,\n",
       "       258., 132., 161., 178., 154., 144., 179.,  53., 140., 182.,  97.,\n",
       "       292., 172.,  91.,  48., 116., 185., 170., 129., 104.,  85.,  97.,\n",
       "        84., 170.,  87., 186., 273., 230., 141., 134.,  96.,  94.,  71.,\n",
       "       214., 235., 252.,  72., 276., 197.,  91., 277., 145.,  52., 131.,\n",
       "        91.,  65., 102.,  93., 191.,  83., 201.,  96., 118., 168.,  71.,\n",
       "       258.,  84., 108., 185., 198., 262.,  78., 172.,  72.,  40., 243.,\n",
       "        93., 279., 306., 111., 217.,  67., 197., 144.,  42.,  43., 246.,\n",
       "       113.,  59., 128., 225., 156., 219.,  64., 163.,  99.,  52., 103.,\n",
       "        90.,  96., 275., 129.,  48., 264.,  77., 182., 212., 268.,  81.,\n",
       "        85., 242., 121., 195., 293.,  83.,  91., 190., 109., 146., 177.,\n",
       "       185., 233.,  65., 113., 310.,  74., 139.,  68., 109., 158., 150.,\n",
       "       158., 139.,  52., 210., 143., 160., 104.,  49., 163.,  90.,  55.,\n",
       "       101., 109., 200., 310., 288., 192., 263., 164., 220.,  96., 202.,\n",
       "       143.,  55., 216., 173., 131., 245., 110., 109.,  59.,  83.,  72.,\n",
       "        48., 341.,  92., 232.,  65., 101.,  88., 122., 144.,  77., 191.,\n",
       "       310.,  80., 128., 321., 244., 128., 281.,  61., 189.,  58.,  97.,\n",
       "       268.,  66., 295., 221.,  77., 144., 265., 249.,  63.,  60., 124.,\n",
       "        78.,  94.,  53., 115., 220., 134., 162.,  84., 173., 275.,  63.,\n",
       "       100., 183., 215., 135.,  72., 142.,  88., 121.,  55., 246.,  61.,\n",
       "        45.,  57., 217., 257., 116., 202.,  50., 120.,  92., 175.,  73.,\n",
       "       131.,  64.,  90., 242.,  71., 131., 241., 252., 258., 181., 248.,\n",
       "       138., 115.,  39., 265., 208., 222., 127., 127.,  68.,  69., 196.,\n",
       "        60.,  69., 171., 160., 281.,  71., 182., 148., 202.,  74., 141.,\n",
       "       259., 168., 230., 229., 257., 150., 311.,  70.,  77., 243., 138.,\n",
       "       151., 140., 136., 118., 200., 137., 111.,  49., 302., 110.,  44.,\n",
       "       142.,  90., 248., 180., 178., 111.,  51., 118., 198., 155., 220.,\n",
       "        55.,  59., 181., 259.,  65., 200., 150.,  42., 107.,  75.,  59.,\n",
       "       277., 142.,  95.,  52., 180., 196., 219., 303.,  81., 280., 233.,\n",
       "       104.,  94., 206.,  95.,  79., 164.,  39., 104.,  54., 283., 248.,\n",
       "       155.,  37., 122.,  88., 214., 262., 142., 170., 137., 174., 202.,\n",
       "       242., 236., 317.,  78.,  97.,  25.,  51., 274.,  60.,  66.,  31.,\n",
       "       101., 296., 141., 346., 103., 128., 252., 292., 190., 102., 206.,\n",
       "       174., 336., 123.,  70., 178.,  47., 198., 308.,  84.,  63., 237.,\n",
       "       297.])"
      ]
     },
     "execution_count": 14,
     "metadata": {},
     "output_type": "execute_result"
    }
   ],
   "source": [
    "y_train"
   ]
  },
  {
   "cell_type": "code",
   "execution_count": 15,
   "id": "10ecd5be-55d8-4f99-90a6-6a89edd7717e",
   "metadata": {},
   "outputs": [
    {
     "data": {
      "text/plain": [
       "array([-0.00551456, -0.04464164,  0.05630714, -0.03665608, -0.04835136,\n",
       "       -0.04296262, -0.07285395,  0.03799897,  0.05078203,  0.0569118 ],\n",
       "      dtype=float32)"
      ]
     },
     "execution_count": 15,
     "metadata": {},
     "output_type": "execute_result"
    }
   ],
   "source": [
    "X[0]"
   ]
  },
  {
   "cell_type": "code",
   "execution_count": 16,
   "id": "24f118b9-a861-4668-bdac-2b8f85e55a38",
   "metadata": {},
   "outputs": [
    {
     "data": {
      "text/plain": [
       "272.0"
      ]
     },
     "execution_count": 16,
     "metadata": {},
     "output_type": "execute_result"
    }
   ],
   "source": [
    "y[0]"
   ]
  },
  {
   "cell_type": "code",
   "execution_count": 17,
   "id": "877eea26-abc2-4c1c-9cb5-5b9c67220e68",
   "metadata": {},
   "outputs": [],
   "source": [
    "reg = LazyRegressor(verbose=0, ignore_warnings=False, custom_metric=None)"
   ]
  },
  {
   "cell_type": "code",
   "execution_count": 18,
   "id": "1e822fda-e56b-406f-97cd-be416d780979",
   "metadata": {},
   "outputs": [
    {
     "data": {
      "application/vnd.jupyter.widget-view+json": {
       "model_id": "67b400328b56431dba59c3d0e3e49bcf",
       "version_major": 2,
       "version_minor": 0
      },
      "text/plain": [
       "  0%|          | 0/42 [00:00<?, ?it/s]"
      ]
     },
     "metadata": {},
     "output_type": "display_data"
    },
    {
     "name": "stdout",
     "output_type": "stream",
     "text": [
      "[LightGBM] [Info] Auto-choosing row-wise multi-threading, the overhead of testing was 0.000090 seconds.\n",
      "You can set `force_row_wise=true` to remove the overhead.\n",
      "And if memory is not enough, you can set `force_col_wise=true`.\n",
      "[LightGBM] [Info] Total Bins 640\n",
      "[LightGBM] [Info] Number of data points in the train set: 397, number of used features: 10\n",
      "[LightGBM] [Info] Start training from score 151.722922\n",
      "[LightGBM] [Warning] No further splits with positive gain, best gain: -inf\n",
      "[LightGBM] [Warning] No further splits with positive gain, best gain: -inf\n",
      "[LightGBM] [Warning] No further splits with positive gain, best gain: -inf\n",
      "[LightGBM] [Warning] No further splits with positive gain, best gain: -inf\n",
      "[LightGBM] [Warning] No further splits with positive gain, best gain: -inf\n",
      "[LightGBM] [Warning] No further splits with positive gain, best gain: -inf\n",
      "[LightGBM] [Warning] No further splits with positive gain, best gain: -inf\n",
      "[LightGBM] [Warning] No further splits with positive gain, best gain: -inf\n",
      "[LightGBM] [Warning] No further splits with positive gain, best gain: -inf\n",
      "[LightGBM] [Warning] No further splits with positive gain, best gain: -inf\n",
      "[LightGBM] [Warning] No further splits with positive gain, best gain: -inf\n",
      "[LightGBM] [Warning] No further splits with positive gain, best gain: -inf\n",
      "[LightGBM] [Warning] No further splits with positive gain, best gain: -inf\n",
      "[LightGBM] [Warning] No further splits with positive gain, best gain: -inf\n",
      "[LightGBM] [Warning] No further splits with positive gain, best gain: -inf\n",
      "[LightGBM] [Warning] No further splits with positive gain, best gain: -inf\n",
      "[LightGBM] [Warning] No further splits with positive gain, best gain: -inf\n",
      "[LightGBM] [Warning] No further splits with positive gain, best gain: -inf\n",
      "[LightGBM] [Warning] No further splits with positive gain, best gain: -inf\n",
      "[LightGBM] [Warning] No further splits with positive gain, best gain: -inf\n",
      "[LightGBM] [Warning] No further splits with positive gain, best gain: -inf\n",
      "[LightGBM] [Warning] No further splits with positive gain, best gain: -inf\n",
      "[LightGBM] [Warning] No further splits with positive gain, best gain: -inf\n",
      "[LightGBM] [Warning] No further splits with positive gain, best gain: -inf\n",
      "[LightGBM] [Warning] No further splits with positive gain, best gain: -inf\n",
      "[LightGBM] [Warning] No further splits with positive gain, best gain: -inf\n",
      "[LightGBM] [Warning] No further splits with positive gain, best gain: -inf\n",
      "[LightGBM] [Warning] No further splits with positive gain, best gain: -inf\n",
      "[LightGBM] [Warning] No further splits with positive gain, best gain: -inf\n",
      "[LightGBM] [Warning] No further splits with positive gain, best gain: -inf\n",
      "[LightGBM] [Warning] No further splits with positive gain, best gain: -inf\n",
      "[LightGBM] [Warning] No further splits with positive gain, best gain: -inf\n",
      "[LightGBM] [Warning] No further splits with positive gain, best gain: -inf\n",
      "[LightGBM] [Warning] No further splits with positive gain, best gain: -inf\n",
      "[LightGBM] [Warning] No further splits with positive gain, best gain: -inf\n",
      "[LightGBM] [Warning] No further splits with positive gain, best gain: -inf\n",
      "[LightGBM] [Warning] No further splits with positive gain, best gain: -inf\n",
      "[LightGBM] [Warning] No further splits with positive gain, best gain: -inf\n",
      "[LightGBM] [Warning] No further splits with positive gain, best gain: -inf\n",
      "[LightGBM] [Warning] No further splits with positive gain, best gain: -inf\n",
      "[LightGBM] [Warning] No further splits with positive gain, best gain: -inf\n",
      "[LightGBM] [Warning] No further splits with positive gain, best gain: -inf\n",
      "[LightGBM] [Warning] No further splits with positive gain, best gain: -inf\n",
      "[LightGBM] [Warning] No further splits with positive gain, best gain: -inf\n",
      "[LightGBM] [Warning] No further splits with positive gain, best gain: -inf\n",
      "[LightGBM] [Warning] No further splits with positive gain, best gain: -inf\n",
      "[LightGBM] [Warning] No further splits with positive gain, best gain: -inf\n",
      "[LightGBM] [Warning] No further splits with positive gain, best gain: -inf\n",
      "[LightGBM] [Warning] No further splits with positive gain, best gain: -inf\n",
      "[LightGBM] [Warning] No further splits with positive gain, best gain: -inf\n",
      "[LightGBM] [Warning] No further splits with positive gain, best gain: -inf\n",
      "[LightGBM] [Warning] No further splits with positive gain, best gain: -inf\n",
      "[LightGBM] [Warning] No further splits with positive gain, best gain: -inf\n",
      "[LightGBM] [Warning] No further splits with positive gain, best gain: -inf\n",
      "[LightGBM] [Warning] No further splits with positive gain, best gain: -inf\n",
      "[LightGBM] [Warning] No further splits with positive gain, best gain: -inf\n",
      "[LightGBM] [Warning] No further splits with positive gain, best gain: -inf\n",
      "[LightGBM] [Warning] No further splits with positive gain, best gain: -inf\n",
      "[LightGBM] [Warning] No further splits with positive gain, best gain: -inf\n",
      "[LightGBM] [Warning] No further splits with positive gain, best gain: -inf\n",
      "[LightGBM] [Warning] No further splits with positive gain, best gain: -inf\n",
      "[LightGBM] [Warning] No further splits with positive gain, best gain: -inf\n",
      "[LightGBM] [Warning] No further splits with positive gain, best gain: -inf\n",
      "[LightGBM] [Warning] No further splits with positive gain, best gain: -inf\n",
      "[LightGBM] [Warning] No further splits with positive gain, best gain: -inf\n",
      "[LightGBM] [Warning] No further splits with positive gain, best gain: -inf\n",
      "[LightGBM] [Warning] No further splits with positive gain, best gain: -inf\n",
      "[LightGBM] [Warning] No further splits with positive gain, best gain: -inf\n",
      "[LightGBM] [Warning] No further splits with positive gain, best gain: -inf\n",
      "[LightGBM] [Warning] No further splits with positive gain, best gain: -inf\n",
      "[LightGBM] [Warning] No further splits with positive gain, best gain: -inf\n",
      "[LightGBM] [Warning] No further splits with positive gain, best gain: -inf\n",
      "[LightGBM] [Warning] No further splits with positive gain, best gain: -inf\n",
      "[LightGBM] [Warning] No further splits with positive gain, best gain: -inf\n",
      "[LightGBM] [Warning] No further splits with positive gain, best gain: -inf\n",
      "[LightGBM] [Warning] No further splits with positive gain, best gain: -inf\n",
      "[LightGBM] [Warning] No further splits with positive gain, best gain: -inf\n",
      "[LightGBM] [Warning] No further splits with positive gain, best gain: -inf\n",
      "[LightGBM] [Warning] No further splits with positive gain, best gain: -inf\n",
      "[LightGBM] [Warning] No further splits with positive gain, best gain: -inf\n",
      "[LightGBM] [Warning] No further splits with positive gain, best gain: -inf\n",
      "[LightGBM] [Warning] No further splits with positive gain, best gain: -inf\n",
      "[LightGBM] [Warning] No further splits with positive gain, best gain: -inf\n",
      "[LightGBM] [Warning] No further splits with positive gain, best gain: -inf\n",
      "[LightGBM] [Warning] No further splits with positive gain, best gain: -inf\n",
      "[LightGBM] [Warning] No further splits with positive gain, best gain: -inf\n",
      "[LightGBM] [Warning] No further splits with positive gain, best gain: -inf\n",
      "[LightGBM] [Warning] No further splits with positive gain, best gain: -inf\n",
      "[LightGBM] [Warning] No further splits with positive gain, best gain: -inf\n",
      "[LightGBM] [Warning] No further splits with positive gain, best gain: -inf\n",
      "[LightGBM] [Warning] No further splits with positive gain, best gain: -inf\n",
      "[LightGBM] [Warning] No further splits with positive gain, best gain: -inf\n",
      "[LightGBM] [Warning] No further splits with positive gain, best gain: -inf\n",
      "[LightGBM] [Warning] No further splits with positive gain, best gain: -inf\n",
      "[LightGBM] [Warning] No further splits with positive gain, best gain: -inf\n",
      "[LightGBM] [Warning] No further splits with positive gain, best gain: -inf\n",
      "[LightGBM] [Warning] No further splits with positive gain, best gain: -inf\n",
      "[LightGBM] [Warning] No further splits with positive gain, best gain: -inf\n",
      "[LightGBM] [Warning] No further splits with positive gain, best gain: -inf\n",
      "[LightGBM] [Warning] No further splits with positive gain, best gain: -inf\n"
     ]
    }
   ],
   "source": [
    "models, predictions = reg.fit(X_train, X_test, y_train, y_test)"
   ]
  },
  {
   "cell_type": "code",
   "execution_count": 19,
   "id": "b8d06ea7-2fac-401e-9590-e17694a07a41",
   "metadata": {},
   "outputs": [
    {
     "name": "stdout",
     "output_type": "stream",
     "text": [
      "                               Adjusted R-Squared  R-Squared   RMSE  \\\n",
      "Model                                                                 \n",
      "ExtraTreesRegressor                          0.38       0.52  54.22   \n",
      "OrthogonalMatchingPursuitCV                  0.37       0.52  54.39   \n",
      "Lasso                                        0.37       0.52  54.46   \n",
      "LassoLars                                    0.37       0.52  54.46   \n",
      "LarsCV                                       0.37       0.51  54.54   \n",
      "LassoCV                                      0.37       0.51  54.59   \n",
      "PassiveAggressiveRegressor                   0.37       0.51  54.74   \n",
      "LassoLarsIC                                  0.36       0.51  54.83   \n",
      "SGDRegressor                                 0.36       0.51  54.85   \n",
      "Ridge                                        0.36       0.51  54.91   \n",
      "RidgeCV                                      0.36       0.51  54.91   \n",
      "BayesianRidge                                0.36       0.51  54.94   \n",
      "LassoLarsCV                                  0.36       0.51  54.96   \n",
      "LinearRegression                             0.36       0.51  54.96   \n",
      "TransformedTargetRegressor                   0.36       0.51  54.96   \n",
      "Lars                                         0.36       0.50  55.09   \n",
      "ElasticNetCV                                 0.36       0.50  55.20   \n",
      "HuberRegressor                               0.36       0.50  55.24   \n",
      "RandomForestRegressor                        0.35       0.50  55.48   \n",
      "AdaBoostRegressor                            0.34       0.49  55.88   \n",
      "LGBMRegressor                                0.34       0.49  55.93   \n",
      "HistGradientBoostingRegressor                0.34       0.49  56.08   \n",
      "PoissonRegressor                             0.32       0.48  56.61   \n",
      "ElasticNet                                   0.30       0.46  57.49   \n",
      "KNeighborsRegressor                          0.30       0.46  57.57   \n",
      "OrthogonalMatchingPursuit                    0.29       0.45  57.87   \n",
      "BaggingRegressor                             0.29       0.45  57.92   \n",
      "GradientBoostingRegressor                    0.25       0.42  59.70   \n",
      "TweedieRegressor                             0.24       0.42  59.81   \n",
      "XGBRegressor                                 0.22       0.40  60.60   \n",
      "GammaRegressor                               0.22       0.40  60.61   \n",
      "RANSACRegressor                              0.20       0.38  61.40   \n",
      "LinearSVR                                    0.12       0.32  64.66   \n",
      "ExtraTreeRegressor                           0.00       0.23  68.73   \n",
      "NuSVR                                       -0.07       0.18  71.06   \n",
      "SVR                                         -0.10       0.15  72.04   \n",
      "DummyRegressor                              -0.30      -0.00  78.37   \n",
      "QuantileRegressor                           -0.35      -0.04  79.84   \n",
      "DecisionTreeRegressor                       -0.47      -0.14  83.42   \n",
      "GaussianProcessRegressor                    -0.77      -0.37  91.51   \n",
      "MLPRegressor                                -1.87      -1.22 116.51   \n",
      "KernelRidge                                 -5.04      -3.67 169.06   \n",
      "\n",
      "                               Time Taken  \n",
      "Model                                      \n",
      "ExtraTreesRegressor                  0.07  \n",
      "OrthogonalMatchingPursuitCV          0.00  \n",
      "Lasso                                0.00  \n",
      "LassoLars                            0.00  \n",
      "LarsCV                               0.01  \n",
      "LassoCV                              0.02  \n",
      "PassiveAggressiveRegressor           0.01  \n",
      "LassoLarsIC                          0.00  \n",
      "SGDRegressor                         0.00  \n",
      "Ridge                                0.01  \n",
      "RidgeCV                              0.00  \n",
      "BayesianRidge                        0.01  \n",
      "LassoLarsCV                          0.02  \n",
      "LinearRegression                     0.00  \n",
      "TransformedTargetRegressor           0.00  \n",
      "Lars                                 0.00  \n",
      "ElasticNetCV                         0.02  \n",
      "HuberRegressor                       0.00  \n",
      "RandomForestRegressor                0.18  \n",
      "AdaBoostRegressor                    0.04  \n",
      "LGBMRegressor                        0.05  \n",
      "HistGradientBoostingRegressor        0.48  \n",
      "PoissonRegressor                     0.01  \n",
      "ElasticNet                           0.00  \n",
      "KNeighborsRegressor                  0.00  \n",
      "OrthogonalMatchingPursuit            0.00  \n",
      "BaggingRegressor                     0.02  \n",
      "GradientBoostingRegressor            0.07  \n",
      "TweedieRegressor                     0.00  \n",
      "XGBRegressor                         0.07  \n",
      "GammaRegressor                       0.02  \n",
      "RANSACRegressor                      0.03  \n",
      "LinearSVR                            0.00  \n",
      "ExtraTreeRegressor                   0.00  \n",
      "NuSVR                                0.01  \n",
      "SVR                                  0.00  \n",
      "DummyRegressor                       0.00  \n",
      "QuantileRegressor                    0.01  \n",
      "DecisionTreeRegressor                0.00  \n",
      "GaussianProcessRegressor             0.01  \n",
      "MLPRegressor                         0.20  \n",
      "KernelRidge                          0.01  \n"
     ]
    }
   ],
   "source": [
    "print(models)"
   ]
  },
  {
   "cell_type": "code",
   "execution_count": null,
   "id": "6f74aaaa-5a1e-43cb-afbd-ca650fda3d70",
   "metadata": {},
   "outputs": [],
   "source": []
  }
 ],
 "metadata": {
  "kernelspec": {
   "display_name": "Python 3 (ipykernel)",
   "language": "python",
   "name": "python3"
  },
  "language_info": {
   "codemirror_mode": {
    "name": "ipython",
    "version": 3
   },
   "file_extension": ".py",
   "mimetype": "text/x-python",
   "name": "python",
   "nbconvert_exporter": "python",
   "pygments_lexer": "ipython3",
   "version": "3.12.7"
  }
 },
 "nbformat": 4,
 "nbformat_minor": 5
}
